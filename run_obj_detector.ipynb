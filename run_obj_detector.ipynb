{
 "cells": [
  {
   "cell_type": "code",
   "execution_count": null,
   "id": "ce28eca0-63f8-4baf-b161-7a42e61009bf",
   "metadata": {
    "tags": []
   },
   "outputs": [],
   "source": [
    "%load_ext autoreload\n",
    "%autoreload 2"
   ]
  },
  {
   "cell_type": "code",
   "execution_count": null,
   "id": "1baa89f6-d78d-4039-a123-7593667ee089",
   "metadata": {
    "tags": [
     "parameters"
    ]
   },
   "outputs": [],
   "source": [
    "# specify substep parameters for interactive run\n",
    "# this cell will be replaced during job run with the parameters from json within params subfolder\n",
    "substep_params={   \n",
    "    \"min_score\" : 0.05\n",
    "}"
   ]
  },
  {
   "cell_type": "code",
   "execution_count": null,
   "id": "7bb2efe8-173e-44a9-b5d7-3a1fd4451c00",
   "metadata": {},
   "outputs": [],
   "source": [
    "# load pipeline and step parameters - do not edit\n",
    "from sinara.substep import get_pipeline_params, get_step_params\n",
    "pipeline_params = get_pipeline_params(pprint=True)\n",
    "step_params = get_step_params(pprint=True)"
   ]
  },
  {
   "cell_type": "code",
   "execution_count": null,
   "id": "dc9323e4-bbb9-4154-a799-8d55f57e32b6",
   "metadata": {
    "tags": []
   },
   "outputs": [],
   "source": [
    "# define substep interface\n",
    "from sinara.substep import NotebookSubstep, ENV_NAME, PIPELINE_NAME, ZONE_NAME, STEP_NAME, RUN_ID, ENTITY_NAME, ENTITY_PATH, SUBSTEP_NAME\n",
    "\n",
    "substep = NotebookSubstep(pipeline_params, step_params, substep_params)\n",
    "\n",
    "substep.interface(\n",
    "    inputs =    \n",
    "    [ \n",
    "      { STEP_NAME: \"data_prep\", ENTITY_NAME: \"coco_test_dataset\"}, # dataset for detector testing from data_prep step\n",
    "      { STEP_NAME: \"model_pack\", ENTITY_NAME: \"bento_service\"}  # stored BentoService from model_pack\n",
    "    ],\n",
    "    tmp_entities =\n",
    "    [\n",
    "        { ENTITY_NAME: \"obj_detect_inference_files\" }\n",
    "    ],\n",
    "    tmp_outputs =\n",
    "    [\n",
    "        { ENTITY_NAME: \"coco_test_dataset\" },  # ground-true test dataset files for use in next substep\n",
    "        { ENTITY_NAME: \"coco_inference_result_dataset\" } # predicted test dataset files for use in next substep\n",
    "    ],\n",
    ")\n",
    "\n",
    "substep.print_interface_info()\n",
    "\n",
    "substep.exit_in_visualize_mode()"
   ]
  },
  {
   "cell_type": "code",
   "execution_count": null,
   "id": "0542910b-bd55-4cba-8b23-584c0fbd1310",
   "metadata": {},
   "outputs": [],
   "source": [
    "# run spark\n",
    "from sinara.spark import SinaraSpark\n",
    "\n",
    "spark = SinaraSpark.run_session(0)\n",
    "SinaraSpark.ui_url()"
   ]
  },
  {
   "cell_type": "markdown",
   "id": "cd37f601-9a03-41b2-8bed-1d85b2f7d4d3",
   "metadata": {},
   "source": [
    "### Loading a trained model from bento_service\n",
    "(weights, configs)"
   ]
  },
  {
   "cell_type": "markdown",
   "id": "257bc90a-ee16-4810-8af9-58b9d00a943f",
   "metadata": {
    "tags": []
   },
   "source": [
    "#### Get and load bentoservice"
   ]
  },
  {
   "cell_type": "code",
   "execution_count": null,
   "id": "c1dfd11c-41c8-48dc-b1fb-20a631ca4f33",
   "metadata": {},
   "outputs": [],
   "source": [
    "import os.path as osp"
   ]
  },
  {
   "cell_type": "code",
   "execution_count": null,
   "id": "39c99362-0e5c-48ef-a67a-6e8e1e8e3984",
   "metadata": {},
   "outputs": [],
   "source": [
    "from sinara.bentoml import load_bentoservice\n",
    "\n",
    "# read trained model\n",
    "print('read trained model')\n",
    "inputs_model_pack = substep.inputs(step_name = \"model_pack\")\n",
    "bento_service = load_bentoservice(inputs_model_pack.bento_service)"
   ]
  },
  {
   "cell_type": "markdown",
   "id": "dd6b3273-91c1-469a-9c03-098d48fe8ecb",
   "metadata": {},
   "source": [
    "#### Unpacking and saving artifacts from bentoservice"
   ]
  },
  {
   "cell_type": "code",
   "execution_count": null,
   "id": "1777e340-a1da-4106-9fa4-0ede811cbc73",
   "metadata": {
    "tags": []
   },
   "outputs": [],
   "source": [
    "# Save binary model weights and config to tmp_entities.obj_detect_inference_files\n",
    "from sinara.bentoml import save_bentoartifact_to_tmp\n",
    "\n",
    "tmp_entities = substep.tmp_entities()\n",
    "tmp_outputs = substep.tmp_outputs()\n",
    "\n",
    "#model_name = bento_service.artifacts[\"model_name\"].get()\n",
    "model_path = osp.join(tmp_entities.obj_detect_inference_files, f\"latest.pth\")\n",
    "cfg_path = osp.join(tmp_entities.obj_detect_inference_files, f\"last_cfg.py\")\n",
    "\n",
    "save_bentoartifact_to_tmp(bento_service, artifact_name=\"weigths_pth\", artifact_file_path=model_path)\n",
    "save_bentoartifact_to_tmp(bento_service, artifact_name=\"mmengine_cfg\", artifact_file_path=cfg_path)"
   ]
  },
  {
   "cell_type": "markdown",
   "id": "7cb42400-030f-4deb-879c-ef874723462e",
   "metadata": {
    "tags": []
   },
   "source": [
    "### Loading test datasets (from step data_prep)"
   ]
  },
  {
   "cell_type": "code",
   "execution_count": null,
   "id": "f96481c5-a92d-4fcd-a870-54ed624b9d0f",
   "metadata": {},
   "outputs": [],
   "source": [
    "from sinara.archive import SinaraArchive\n",
    "import json\n",
    "\n",
    "# copy test data and dataset_config from previos step (data_prep) to tmp\n",
    "inputs_data_prep = substep.inputs(step_name = \"data_prep\")\n",
    "\n",
    "archive = SinaraArchive(spark)\n",
    "archive.unpack_files_from_store_to_tmp(store_path=inputs_data_prep.coco_test_dataset, tmp_entity_dir=tmp_outputs.coco_test_dataset)\n",
    "\n",
    "# reading ground-true test dataset markup \n",
    "with open(osp.join(tmp_outputs.coco_test_dataset, \"test_coco_annotations.json\")) as f_id:\n",
    "    test_coco_dataset = json.load(f_id)\n",
    "    \n",
    "print('Annotations count in test_coco_dataset:', len(test_coco_dataset['annotations']))\n",
    "print('Keys count in test_coco_dataset:', list(test_coco_dataset))"
   ]
  },
  {
   "cell_type": "markdown",
   "id": "e91a1a07-73f0-460a-af02-a1e9803bd4dd",
   "metadata": {},
   "source": [
    "### Inference model"
   ]
  },
  {
   "cell_type": "markdown",
   "id": "a05e84bc-b06c-4f63-a6df-16d2b6a77378",
   "metadata": {
    "tags": []
   },
   "source": [
    "#### Initializing modules from mmdetection, mmcv"
   ]
  },
  {
   "cell_type": "code",
   "execution_count": null,
   "id": "5ba58f61-30a1-4f89-b0ee-b7e8c81d7b92",
   "metadata": {
    "tags": []
   },
   "outputs": [],
   "source": [
    "from mmdet.apis import init_detector, inference_detector"
   ]
  },
  {
   "cell_type": "markdown",
   "id": "b7fd4c9a-5f17-49cc-8871-237a22288d2d",
   "metadata": {
    "tags": []
   },
   "source": [
    "#### Initializing obj detector"
   ]
  },
  {
   "cell_type": "code",
   "execution_count": null,
   "id": "7e56705f-a4ab-4606-a595-a4a3fe2170d6",
   "metadata": {
    "tags": []
   },
   "outputs": [],
   "source": [
    "# build the obj detector from a config file and a checkpoint file\n",
    "obj_detector = init_detector(osp.join(tmp_entities.obj_detect_inference_files, 'last_cfg.py'), \n",
    "                      osp.join(tmp_entities.obj_detect_inference_files, 'latest.pth'), \n",
    "                      device='cpu')"
   ]
  },
  {
   "cell_type": "markdown",
   "id": "d600bd37-a50f-4773-9b67-928907e95729",
   "metadata": {},
   "source": [
    "#### Run obj detector on a test dataset"
   ]
  },
  {
   "cell_type": "markdown",
   "id": "750b7d78-8d6b-4c03-b2d5-de5b907a40fc",
   "metadata": {
    "tags": []
   },
   "source": [
    "##### Run obj detector on a coco_test_dataset and prepere eval_coco_dataset.json for eval step"
   ]
  },
  {
   "cell_type": "code",
   "execution_count": null,
   "id": "4f6a7544-8148-418a-8eab-6f3bfe854b0c",
   "metadata": {
    "tags": []
   },
   "outputs": [],
   "source": [
    "from tqdm import tqdm\n",
    "import cv2\n",
    "\n",
    "from utils.coco import convert_inference_results_to_coco\n",
    "from utils.coco import dump_coco_json\n",
    "\n",
    "eval_coco_dataset = dict(test_coco_dataset, **{\"annotations\" : []})\n",
    "for coco_image in tqdm(test_coco_dataset['images'], desc='process predict'):\n",
    "    image_file_path = osp.join(tmp_outputs.coco_test_dataset, coco_image['file_name'])\n",
    "    image_height, image_width, channels = cv2.imread(image_file_path).shape\n",
    "    out = inference_detector(obj_detector, [image_file_path])\n",
    "    coco_out  = []\n",
    "    for batch_i, out_img in enumerate(out):\n",
    "        pred_instances = out_img.cpu().numpy().pred_instances\n",
    "        coco_out.append(convert_inference_results_to_coco(pred_instances, coco_image, image_width, image_height))\n",
    "        eval_coco_dataset[\"annotations\"] += coco_out[0].get(\"annotations\", [])\n",
    "        \n",
    "last_image_file_path = image_file_path\n",
    "\n",
    "print('test_coco_dataset annotations size:', len(test_coco_dataset['annotations']))\n",
    "print('eval_coco_dataset annotations size:', len(eval_coco_dataset['annotations']))\n",
    "\n",
    "eval_coco_dataset['info']['iouType'] = 'bbox'\n",
    "for ann in eval_coco_dataset['annotations']:\n",
    "    ann['area'] = ann['bbox'][2] * ann['bbox'][3]\n",
    "\n",
    "eval_coco_dataset_path =  osp.join(tmp_outputs.coco_inference_result_dataset, 'eval_coco_dataset.json')\n",
    "dump_coco_json(eval_coco_dataset_path, eval_coco_dataset)\n",
    "print(f\"eval_coco_torch = {eval_coco_dataset_path}\")"
   ]
  },
  {
   "cell_type": "markdown",
   "id": "693eb04b-4460-4285-8043-b1558ada5190",
   "metadata": {
    "tags": []
   },
   "source": [
    "### Preview of object detection on an image"
   ]
  },
  {
   "cell_type": "markdown",
   "id": "f525cc5e-8110-4b64-8a84-d42772012a1c",
   "metadata": {},
   "source": [
    "#### Visualize last predict to last image from coco_test_dataset"
   ]
  },
  {
   "cell_type": "code",
   "execution_count": null,
   "id": "7eaa4c78-fbf7-4f2e-8945-eed4f881e815",
   "metadata": {
    "tags": []
   },
   "outputs": [],
   "source": [
    "import mmcv\n",
    "from utils import visualizer_utils\n",
    "\n",
    "# get visualizer\n",
    "visualizer = visualizer_utils.build_visualizer()\n",
    "# the dataset_meta is loaded from the checkpoint and then pass to the model in init_detector\n",
    "visualizer.dataset_meta = obj_detector.dataset_meta\n",
    "# show the results\n",
    "image = mmcv.imread(last_image_file_path, channel_order='rgb')\n",
    "visualizer.add_datasample(\n",
    "    'new_result',\n",
    "    image,\n",
    "    data_sample= out[0],\n",
    "    draw_gt=False,\n",
    "    wait_time=0,\n",
    "    out_file=None,\n",
    "    pred_score_thr=0.01\n",
    ")\n",
    "visualizer.show()"
   ]
  },
  {
   "cell_type": "code",
   "execution_count": null,
   "id": "07ceb2bb-f016-42de-bbcc-56b1b7864ad7",
   "metadata": {
    "tags": []
   },
   "outputs": [],
   "source": [
    "# stop spark\n",
    "SinaraSpark.stop_session()"
   ]
  },
  {
   "cell_type": "code",
   "execution_count": null,
   "id": "269d7cfc-81d8-4dd6-b346-06b690e1d121",
   "metadata": {},
   "outputs": [],
   "source": []
  }
 ],
 "metadata": {
  "kernelspec": {
   "display_name": "cv",
   "language": "python",
   "name": "cv"
  },
  "language_info": {
   "codemirror_mode": {
    "name": "ipython",
    "version": 3
   },
   "file_extension": ".py",
   "mimetype": "text/x-python",
   "name": "python",
   "nbconvert_exporter": "python",
   "pygments_lexer": "ipython3",
   "version": "3.9.10"
  }
 },
 "nbformat": 4,
 "nbformat_minor": 5
}
